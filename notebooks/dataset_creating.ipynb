{
 "cells": [
  {
   "cell_type": "code",
   "execution_count": 1,
   "metadata": {},
   "outputs": [],
   "source": [
    "from PIL import Image\n",
    "import glob\n",
    "import random\n",
    "import cv2\n",
    "import numpy as np\n",
    "import os\n",
    "import tqdm\n"
   ]
  },
  {
   "cell_type": "code",
   "execution_count": 2,
   "metadata": {},
   "outputs": [
    {
     "name": "stdout",
     "output_type": "stream",
     "text": [
      "D:/Documents/13_Projet/dlcv4ldb/02_Donnees/empty_maps/incarnam\n",
      "D:/Documents/13_Projet/dlcv4ldb/02_Donnees/stickers/incarnam\n"
     ]
    }
   ],
   "source": [
    "base_path = \"D:/Documents/13_Projet/dlcv4ldb/02_Donnees\"\n",
    "empty_maps_path = \"empty_maps/incarnam\"\n",
    "stickers_path = \"stickers/incarnam\"\n",
    "\n",
    "bg_folder_path = f\"{base_path}/{empty_maps_path}\"\n",
    "fg_folder_path = f\"{base_path}/{stickers_path}\"\n",
    "\n",
    "print(f\"{bg_folder_path}\")\n",
    "print(f\"{fg_folder_path}\")\n"
   ]
  },
  {
   "cell_type": "code",
   "execution_count": 3,
   "metadata": {},
   "outputs": [],
   "source": [
    "def get_infos_from_map_name(map_name):\n",
    "    stem, suf = map_name.split('.')\n",
    "    stem_split = stem.split(\"_\")\n",
    "    if len(stem_split) == 5:\n",
    "        city, area, x, y, level = stem_split\n",
    "    elif len(stem_split) == 4:\n",
    "        city, area, x, y = stem_split\n",
    "        level = None\n",
    "    else: \n",
    "        print(stem_split)\n",
    "        raise RuntimeError\n",
    "    return city, area, x, y, level\n",
    "\n",
    "def get_infos_from_mob_name(mob_name):\n",
    "    stem, suf = mob_name.split('.')\n",
    "    stem_split = stem.split(\"_\")\n",
    "    name, pos, bg = stem_split\n",
    "    return name, pos, bg\n",
    "\n",
    "def pick_mob_pos_with_mask(mask_path):\n",
    "    img = Image.open(mask_path).convert(\"L\")\n",
    "    img_arr = np.array(img)\n",
    "    white_pix = list(np.argwhere(img_arr == 255))\n",
    "    if not white_pix:\n",
    "        return (None, None)\n",
    "    else:\n",
    "        pos_x, pos_y = random.choice(white_pix)\n",
    "        return (pos_x, pos_y)\n"
   ]
  },
  {
   "cell_type": "code",
   "execution_count": 4,
   "metadata": {},
   "outputs": [],
   "source": [
    "classes = [\n",
    "    \"pissenlitMiroitant\", \n",
    "    \"roseVaporeuse\", \n",
    "    \"tofuChimerique\", \n",
    "    \"tournesolNebuleux\", \n",
    "    \"chaferDebutant\", \n",
    "    \"chaferEclaireur\", \n",
    "    \"chaferPiquier\", \n",
    "    \"chafeurFurtif\", \n",
    "    \"chakrobat\", \n",
    "    \"ronronchon\", \n",
    "    \"tigrimas\", \n",
    "    \"grandSplatch\", \n",
    "    \"petitGloot\", \n",
    "    \"plikplok\", \n",
    "    \"aminite\", \n",
    "    \"bouftonOrageux\", \n",
    "    \"bouftonPalichon\", \n",
    "    \"bouftorEthere\", \n",
    "    \"bouftouNuageux\", \n",
    "    \"feuDeJoie\", \n",
    "    \"feuFollet\", \n",
    "    \"feuFurieux\", \n",
    "    \"feuVif\", \n",
    "    ]\n"
   ]
  },
  {
   "cell_type": "code",
   "execution_count": 5,
   "metadata": {},
   "outputs": [
    {
     "name": "stderr",
     "output_type": "stream",
     "text": [
      "Creating dataset:   0%|          | 0/3 [00:00<?, ?it/s]"
     ]
    },
    {
     "name": "stderr",
     "output_type": "stream",
     "text": [
      "\n"
     ]
    },
    {
     "name": "stdout",
     "output_type": "stream",
     "text": [
      "bg_area_list=[]\n"
     ]
    },
    {
     "ename": "IndexError",
     "evalue": "list index out of range",
     "output_type": "error",
     "traceback": [
      "\u001b[1;31m---------------------------------------------------------------------------\u001b[0m",
      "\u001b[1;31mIndexError\u001b[0m                                Traceback (most recent call last)",
      "\u001b[1;32md:\\Documents\\13_Projet\\dofus_bot_vision\\03_Deveveloppement\\dataset_creating.ipynb Cellule 5\u001b[0m line \u001b[0;36m2\n\u001b[0;32m     <a href='vscode-notebook-cell:/d%3A/Documents/13_Projet/dofus_bot_vision/03_Deveveloppement/dataset_creating.ipynb#W4sZmlsZQ%3D%3D?line=18'>19</a>\u001b[0m bg_area_list \u001b[39m=\u001b[39m glob\u001b[39m.\u001b[39mglob(\u001b[39mf\u001b[39m\u001b[39m\"\u001b[39m\u001b[39m{\u001b[39;00mbg_folder_path\u001b[39m}\u001b[39;00m\u001b[39m/*\u001b[39m\u001b[39m\"\u001b[39m)\n\u001b[0;32m     <a href='vscode-notebook-cell:/d%3A/Documents/13_Projet/dofus_bot_vision/03_Deveveloppement/dataset_creating.ipynb#W4sZmlsZQ%3D%3D?line=19'>20</a>\u001b[0m \u001b[39mprint\u001b[39m(\u001b[39mf\u001b[39m\u001b[39m\"\u001b[39m\u001b[39m{\u001b[39;00mbg_area_list\u001b[39m=}\u001b[39;00m\u001b[39m\"\u001b[39m)\n\u001b[1;32m---> <a href='vscode-notebook-cell:/d%3A/Documents/13_Projet/dofus_bot_vision/03_Deveveloppement/dataset_creating.ipynb#W4sZmlsZQ%3D%3D?line=20'>21</a>\u001b[0m bg_area_path \u001b[39m=\u001b[39m random\u001b[39m.\u001b[39;49mchoice(bg_area_list)\n\u001b[0;32m     <a href='vscode-notebook-cell:/d%3A/Documents/13_Projet/dofus_bot_vision/03_Deveveloppement/dataset_creating.ipynb#W4sZmlsZQ%3D%3D?line=21'>22</a>\u001b[0m bg_list \u001b[39m=\u001b[39m glob\u001b[39m.\u001b[39mglob(\u001b[39mf\u001b[39m\u001b[39m\"\u001b[39m\u001b[39m{\u001b[39;00mbg_area_path\u001b[39m}\u001b[39;00m\u001b[39m/crop/*\u001b[39m\u001b[39m\"\u001b[39m)\n\u001b[0;32m     <a href='vscode-notebook-cell:/d%3A/Documents/13_Projet/dofus_bot_vision/03_Deveveloppement/dataset_creating.ipynb#W4sZmlsZQ%3D%3D?line=22'>23</a>\u001b[0m bg_path \u001b[39m=\u001b[39m random\u001b[39m.\u001b[39mchoice(bg_list)\n",
      "File \u001b[1;32mC:\\Program Files\\Python310\\lib\\random.py:378\u001b[0m, in \u001b[0;36mRandom.choice\u001b[1;34m(self, seq)\u001b[0m\n\u001b[0;32m    376\u001b[0m \u001b[39m\u001b[39m\u001b[39m\"\"\"Choose a random element from a non-empty sequence.\"\"\"\u001b[39;00m\n\u001b[0;32m    377\u001b[0m \u001b[39m# raises IndexError if seq is empty\u001b[39;00m\n\u001b[1;32m--> 378\u001b[0m \u001b[39mreturn\u001b[39;00m seq[\u001b[39mself\u001b[39;49m\u001b[39m.\u001b[39;49m_randbelow(\u001b[39mlen\u001b[39;49m(seq))]\n",
      "\u001b[1;31mIndexError\u001b[0m: list index out of range"
     ]
    }
   ],
   "source": [
    "number_of_img = 3\n",
    "train_size = 0.5\n",
    "p_mobs = [0.1, 0.2, 0.3, 0.4]\n",
    "show = True\n",
    "write = False\n",
    "color_box = (0, 0, 255)\n",
    "color_text = (0, 0, 0)\n",
    "data_rel_path = \"../02_Donnees/datasets\"\n",
    "train_img_path = os.path.join(data_rel_path, \"dofus\", \"images\", \"train\")\n",
    "train_label_path = os.path.join(data_rel_path, \"dofus\", \"labels\", \"train\")\n",
    "val_img_path = os.path.join(data_rel_path, \"dofus\", \"images\", \"val\")\n",
    "val_label_path = os.path.join(data_rel_path, \"dofus\", \"labels\", \"val\")\n",
    "if write and not os.path.exists(train_img_path):\n",
    "    os.makedirs(train_img_path)\n",
    "    os.makedirs(train_label_path)\n",
    "    os.makedirs(val_img_path)\n",
    "    os.makedirs(val_label_path)\n",
    "for img_number in tqdm.tqdm(range(number_of_img), desc=\"Creating dataset\"):\n",
    "    data_name = f\"{img_number:08d}\"\n",
    "    bg_area_list = glob.glob(f\"{bg_folder_path}/*\")\n",
    "    print(f\"{bg_area_list=}\")\n",
    "    bg_area_path = random.choice(bg_area_list)\n",
    "    bg_list = glob.glob(f\"{bg_area_path}/crop/*\")\n",
    "    bg_path = random.choice(bg_list)\n",
    "    bg_name = bg_path.split(\"\\\\\")[-1]\n",
    "    city, area, coord_x, coord_y, level = get_infos_from_map_name(bg_name)\n",
    "    img = Image.open(bg_path, 'r')\n",
    "    img_width, img_height = img.size\n",
    "    mob_list = glob.glob(f\"{fg_folder_path}/mobs/{area}/*\")\n",
    "    label = \"\"\n",
    "    if mob_list:\n",
    "        number_of_mobs = np.random.choice(4, 1, p=p_mobs)[0]\n",
    "        stickers = []\n",
    "        for j in range(number_of_mobs):\n",
    "            mob_path = random.choice(mob_list)\n",
    "            mob_pos_list = glob.glob(f\"{mob_path}/final/*\")\n",
    "            mob_pos_path = random.choice(mob_pos_list)\n",
    "            mob_img = Image.open(mob_pos_path, 'r')\n",
    "            width, height = mob_img.size\n",
    "            y, x = pick_mob_pos_with_mask(bg_path.replace(\"crop\", \"mask\"))\n",
    "            if x and y:\n",
    "                mob_name = mob_pos_path.split(\"\\\\\")[-1]\n",
    "                name, pos, bg = get_infos_from_mob_name(mob_name)\n",
    "                class_id = classes.index(name)\n",
    "                x_center_rel = x / img_width\n",
    "                y_center_rel = (y - height//2) / img_height\n",
    "                width_rel = width / img_width\n",
    "                height_rel = height / img_height\n",
    "                if x_center_rel < 0:\n",
    "                    x = width//2\n",
    "                    x_center_rel = x / img_width\n",
    "                if y_center_rel < 0:\n",
    "                    y = height\n",
    "                    y_center_rel = (y - height//2) / img_height\n",
    "                x_pasted = x - width//2\n",
    "                y_pasted = y - height\n",
    "                img.paste(mob_img, (x_pasted, y_pasted), mask=mob_img)\n",
    "                label += f\"{class_id} {x_center_rel} {y_center_rel} {width_rel} {height_rel}\"\n",
    "                if not j + 1 == number_of_mobs:\n",
    "                    label += \"\\n\"\n",
    "                stickers.append({\n",
    "                    \"name\": name, \"left\": x_pasted, \"top\": y_pasted, \"width\": width, \"height\": height\n",
    "                })\n",
    "    if write:\n",
    "        if img_number / number_of_img < train_size:\n",
    "            img.save(os.path.join(train_img_path, f\"{data_name}.png\"))\n",
    "            with open(os.path.join(train_label_path, f\"{data_name}.txt\"), 'w') as file:\n",
    "                file.write(label)\n",
    "        if img_number / number_of_img >= train_size:\n",
    "            img.save(os.path.join(val_img_path, f\"{data_name}.png\"))\n",
    "            with open(os.path.join(val_label_path, f\"{data_name}.txt\"), 'w') as file:\n",
    "                file.write(label)\n",
    "    if show:\n",
    "        img = np.array(img)[:, :, ::-1].copy()\n",
    "        for sticker in stickers:\n",
    "            img = cv2.rectangle(img, (sticker[\"left\"], sticker[\"top\"]), (sticker[\"left\"] + sticker[\"width\"], sticker[\"top\"] + sticker[\"height\"]), color_box, 2)\n",
    "            (w, h), _ = cv2.getTextSize(sticker[\"name\"], cv2.FONT_HERSHEY_SIMPLEX, 0.6, 1)\n",
    "            img = cv2.rectangle(img, (sticker[\"left\"], sticker[\"top\"] - 20), (sticker[\"left\"] + w, sticker[\"top\"]), color_box, -1)\n",
    "            img = cv2.putText(img, sticker[\"name\"], (sticker[\"left\"], sticker[\"top\"] - 5), cv2.FONT_HERSHEY_SIMPLEX, 0.6, color_text, 1)\n",
    "        \n",
    "        cv2.imshow(\"Display window\", img)\n",
    "        k = cv2.waitKey(0)\n"
   ]
  },
  {
   "cell_type": "code",
   "execution_count": null,
   "metadata": {},
   "outputs": [],
   "source": []
  }
 ],
 "metadata": {
  "kernelspec": {
   "display_name": "venv",
   "language": "python",
   "name": "python3"
  },
  "language_info": {
   "codemirror_mode": {
    "name": "ipython",
    "version": 3
   },
   "file_extension": ".py",
   "mimetype": "text/x-python",
   "name": "python",
   "nbconvert_exporter": "python",
   "pygments_lexer": "ipython3",
   "version": "3.10.11"
  }
 },
 "nbformat": 4,
 "nbformat_minor": 2
}
