{
 "cells": [
  {
   "cell_type": "code",
   "execution_count": 5,
   "metadata": {},
   "outputs": [],
   "source": [
    "import os\n",
    "import importlib\n",
    "import dataset\n"
   ]
  },
  {
   "cell_type": "code",
   "execution_count": 35,
   "metadata": {},
   "outputs": [
    {
     "name": "stdout",
     "output_type": "stream",
     "text": [
      "bg_folder_path='../02_Donnees/empty_maps/incarnam'\n",
      "fg_folder_path='../02_Donnees/stickers/incarnam'\n"
     ]
    }
   ],
   "source": [
    "base_path = \"../02_Donnees\"\n",
    "# base_path = \"D:/Documents/13_Projet/dofus_bot_vision/02_Donnees\"\n",
    "empty_maps_path = \"empty_maps/incarnam\"\n",
    "stickers_path = \"stickers/incarnam\"\n",
    "\n",
    "bg_folder_path = f\"{base_path}/{empty_maps_path}\"\n",
    "fg_folder_path = f\"{base_path}/{stickers_path}\"\n",
    "\n",
    "print(f\"{bg_folder_path=}\")\n",
    "print(f\"{fg_folder_path=}\")\n"
   ]
  },
  {
   "cell_type": "code",
   "execution_count": 37,
   "metadata": {},
   "outputs": [
    {
     "name": "stdout",
     "output_type": "stream",
     "text": [
      "path='../02_Donnees/empty_maps/incarnam\\\\champs\\\\crop\\\\incarnam_champs_0_-4_lv5.jpg'\n"
     ]
    }
   ],
   "source": [
    "importlib.reload(dataset)\n",
    "\n",
    "zone = \"champs\"\n",
    "img_type = \"crop\"\n",
    "name = \"incarnam_champs_0_-4_lv5.jpg\"\n",
    "path = os.path.join(bg_folder_path, zone, img_type, name)\n",
    "print(f\"{path=}\")\n",
    "\n",
    "bg_img = dataset.BackgroundImage(path)\n"
   ]
  },
  {
   "cell_type": "code",
   "execution_count": 41,
   "metadata": {},
   "outputs": [
    {
     "name": "stdout",
     "output_type": "stream",
     "text": [
      "path='../02_Donnees/stickers/incarnam\\\\mobs\\\\champs\\\\pissenlitMiroitant\\\\final\\\\pissenlitMiroitant_ne_nobg.png'\n"
     ]
    }
   ],
   "source": [
    "importlib.reload(dataset)\n",
    "\n",
    "sticker_type = \"mobs\"\n",
    "zone = \"champs\"\n",
    "img_type = \"final\"\n",
    "mob_race = \"pissenlitMiroitant\"\n",
    "name = \"pissenlitMiroitant_ne_nobg.png\"\n",
    "path = os.path.join(fg_folder_path, sticker_type, zone, mob_race, img_type, name)\n",
    "print(f\"{path=}\")\n",
    "\n",
    "mob_sticker = dataset.MobStickerImage(path)\n"
   ]
  },
  {
   "cell_type": "code",
   "execution_count": 43,
   "metadata": {},
   "outputs": [
    {
     "name": "stdout",
     "output_type": "stream",
     "text": [
      "path='../02_Donnees/stickers/incarnam\\\\ressources\\\\wheat\\\\final\\\\wheat_nobg.png'\n"
     ]
    }
   ],
   "source": [
    "importlib.reload(dataset)\n",
    "\n",
    "sticker_type = \"ressources\"\n",
    "ress_race = \"wheat\"\n",
    "img_type = \"final\"\n",
    "name = \"wheat_nobg.png\"\n",
    "path = os.path.join(fg_folder_path, sticker_type, ress_race, img_type, name)\n",
    "print(f\"{path=}\")\n",
    "\n",
    "ressource_sticker = dataset.RessourceStickerImage(path)\n"
   ]
  },
  {
   "cell_type": "code",
   "execution_count": 174,
   "metadata": {},
   "outputs": [
    {
     "data": {
      "text/plain": [
       "<module 'dataset' from 'd:\\\\Documents\\\\13_Projet\\\\dofus_bot_vision\\\\03_Deveveloppement\\\\dataset.py'>"
      ]
     },
     "execution_count": 174,
     "metadata": {},
     "output_type": "execute_result"
    }
   ],
   "source": [
    "importlib.reload(dataset)\n"
   ]
  },
  {
   "cell_type": "code",
   "execution_count": null,
   "metadata": {},
   "outputs": [],
   "source": [
    "base_path = \"../02_Donnees\"\n",
    "empty_maps_path = \"empty_maps/incarnam\"\n",
    "stickers_path = \"stickers/incarnam\"\n",
    "\n",
    "map_generator = dataset.MapGenerator(base_path, empty_maps_path, stickers_path, classes=None, p_mobs=[0.1, 0.2, 0.3, 0.4])\n",
    "bg_image, mobs, ressources = map_generator.generate_image()\n"
   ]
  },
  {
   "cell_type": "code",
   "execution_count": 173,
   "metadata": {},
   "outputs": [
    {
     "name": "stdout",
     "output_type": "stream",
     "text": [
      "number_of_mobs=3\n",
      "path=../02_Donnees/stickers/incarnam/mobs/routeDesAmes/*\n"
     ]
    }
   ],
   "source": [
    "from IPython.display import clear_output\n",
    "\n",
    "base_path = \"../02_Donnees\"\n",
    "empty_maps_path = \"empty_maps/incarnam\"\n",
    "stickers_path = \"stickers/incarnam\"\n",
    "\n",
    "for i in range(1000):\n",
    "    try: \n",
    "        map_generator = dataset.MapGenerator(base_path, empty_maps_path, stickers_path, classes=None, p_mobs=[0.1, 0.2, 0.3, 0.4])\n",
    "        bg_image, mobs, ressources = map_generator.generate_image()\n",
    "        clear_output(wait=True)\n",
    "    except: \n",
    "        break\n"
   ]
  },
  {
   "cell_type": "code",
   "execution_count": null,
   "metadata": {},
   "outputs": [],
   "source": []
  }
 ],
 "metadata": {
  "kernelspec": {
   "display_name": "venv310",
   "language": "python",
   "name": "python3"
  },
  "language_info": {
   "codemirror_mode": {
    "name": "ipython",
    "version": 3
   },
   "file_extension": ".py",
   "mimetype": "text/x-python",
   "name": "python",
   "nbconvert_exporter": "python",
   "pygments_lexer": "ipython3",
   "version": "3.10.11"
  }
 },
 "nbformat": 4,
 "nbformat_minor": 2
}
