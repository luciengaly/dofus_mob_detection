{
 "cells": [
  {
   "cell_type": "code",
   "execution_count": 2,
   "metadata": {},
   "outputs": [],
   "source": [
    "import numpy as np\n",
    "import cv2\n",
    "from PIL import Image, ImageGrab\n",
    "from mss import mss\n",
    "import time\n"
   ]
  },
  {
   "cell_type": "code",
   "execution_count": 16,
   "metadata": {},
   "outputs": [
    {
     "name": "stdout",
     "output_type": "stream",
     "text": [
      "(1920, 1080)\n",
      "(1920, 1017)\n"
     ]
    }
   ],
   "source": [
    "bounding_box = {'top': 0, 'left': 0, 'width': 1920, 'height': 1080}\n",
    "\n",
    "sct = mss()\n",
    "times = []\n",
    "\n",
    "while True:\n",
    "    tic = time.time()\n",
    "    sct_img = sct.grab(bounding_box)\n",
    "    toc = time.time()\n",
    "    times.append(toc-tic)\n",
    "    img = Image.frombytes(\n",
    "        'RGB', \n",
    "        (sct_img.width, sct_img.height), \n",
    "        sct_img.rgb, \n",
    "        )\n",
    "    print(f\"{img.size}\")\n",
    "    img_crop = img.crop((0, 23, img.size[0], img.size[1]-40))\n",
    "    print(f\"{img_crop.size}\")\n",
    "    img_crop.show()\n",
    "\n",
    "    break\n",
    "    # print(f\"Time spent: {toc-tic} second\")\n"
   ]
  },
  {
   "cell_type": "code",
   "execution_count": 11,
   "metadata": {},
   "outputs": [
    {
     "data": {
      "text/plain": [
       "28.960796621493184"
      ]
     },
     "execution_count": 11,
     "metadata": {},
     "output_type": "execute_result"
    }
   ],
   "source": [
    "1/np.mean(times)\n"
   ]
  },
  {
   "cell_type": "code",
   "execution_count": 4,
   "metadata": {},
   "outputs": [],
   "source": [
    "while True:\n",
    "    img = ImageGrab.grab(bbox=(0, 0, 1920, 1080))\n",
    "    img_np = np.array(img)\n",
    "    frame = cv2.cvtColor(img_np, cv2.COLOR_BGR2GRAY)\n",
    "    cv2.imshow(\"test\", frame)\n",
    "    time.sleep(5)\n",
    "    cv2.waitKey(0)\n",
    "    cv2.destroyAllWindows()\n"
   ]
  },
  {
   "cell_type": "code",
   "execution_count": null,
   "metadata": {},
   "outputs": [],
   "source": []
  }
 ],
 "metadata": {
  "kernelspec": {
   "display_name": "venv",
   "language": "python",
   "name": "python3"
  },
  "language_info": {
   "codemirror_mode": {
    "name": "ipython",
    "version": 3
   },
   "file_extension": ".py",
   "mimetype": "text/x-python",
   "name": "python",
   "nbconvert_exporter": "python",
   "pygments_lexer": "ipython3",
   "version": "3.7.9"
  }
 },
 "nbformat": 4,
 "nbformat_minor": 2
}
