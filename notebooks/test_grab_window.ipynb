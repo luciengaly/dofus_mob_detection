{
 "cells": [
  {
   "cell_type": "code",
   "execution_count": 1,
   "metadata": {},
   "outputs": [],
   "source": [
    "import pygetwindow as gw\n",
    "from PIL import ImageGrab\n",
    "import cv2\n",
    "import numpy as np\n"
   ]
  },
  {
   "cell_type": "code",
   "execution_count": 7,
   "metadata": {},
   "outputs": [],
   "source": [
    "import win32gui\n",
    "import win32ui\n",
    "import win32con\n",
    "\n",
    "def background_screenshot(hwnd, width, height):\n",
    "    wDC = win32gui.GetWindowDC(hwnd)\n",
    "    dcObj=win32ui.CreateDCFromHandle(wDC)\n",
    "    cDC=dcObj.CreateCompatibleDC()\n",
    "    dataBitMap = win32ui.CreateBitmap()\n",
    "    dataBitMap.CreateCompatibleBitmap(dcObj, width, height)\n",
    "    cDC.SelectObject(dataBitMap)\n",
    "    cDC.BitBlt((0,0),(width, height) , dcObj, (0,0), win32con.SRCCOPY)\n",
    "    dataBitMap.SaveBitmapFile(cDC, 'screenshot.bmp')\n",
    "    dcObj.DeleteDC()\n",
    "    cDC.DeleteDC()\n",
    "    win32gui.ReleaseDC(hwnd, wDC)\n",
    "    win32gui.DeleteObject(dataBitMap.GetHandle())\n",
    "\n",
    "windowname = 'Deeplearner - Dofus 2.69.3.11'\n",
    "hwnd = win32gui.FindWindow(None, windowname)\n",
    "background_screenshot(hwnd, 1920, 1080)\n"
   ]
  },
  {
   "cell_type": "code",
   "execution_count": 6,
   "metadata": {},
   "outputs": [
    {
     "name": "stdout",
     "output_type": "stream",
     "text": [
      "1\n"
     ]
    },
    {
     "ename": "ValueError",
     "evalue": "not enough image data",
     "output_type": "error",
     "traceback": [
      "\u001b[1;31m---------------------------------------------------------------------------\u001b[0m",
      "\u001b[1;31mValueError\u001b[0m                                Traceback (most recent call last)",
      "\u001b[1;32md:\\Documents\\13_Projet\\dlcv4ldb\\03_Deveveloppement\\test_grab_window.ipynb Cellule 2\u001b[0m line \u001b[0;36m3\n\u001b[0;32m     <a href='vscode-notebook-cell:/d%3A/Documents/13_Projet/dlcv4ldb/03_Deveveloppement/test_grab_window.ipynb#W3sZmlsZQ%3D%3D?line=29'>30</a>\u001b[0m bmpinfo \u001b[39m=\u001b[39m saveBitMap\u001b[39m.\u001b[39mGetInfo()\n\u001b[0;32m     <a href='vscode-notebook-cell:/d%3A/Documents/13_Projet/dlcv4ldb/03_Deveveloppement/test_grab_window.ipynb#W3sZmlsZQ%3D%3D?line=30'>31</a>\u001b[0m bmpstr \u001b[39m=\u001b[39m saveBitMap\u001b[39m.\u001b[39mGetBitmapBits(\u001b[39mTrue\u001b[39;00m)\n\u001b[1;32m---> <a href='vscode-notebook-cell:/d%3A/Documents/13_Projet/dlcv4ldb/03_Deveveloppement/test_grab_window.ipynb#W3sZmlsZQ%3D%3D?line=32'>33</a>\u001b[0m im \u001b[39m=\u001b[39m Image\u001b[39m.\u001b[39;49mfrombuffer(\n\u001b[0;32m     <a href='vscode-notebook-cell:/d%3A/Documents/13_Projet/dlcv4ldb/03_Deveveloppement/test_grab_window.ipynb#W3sZmlsZQ%3D%3D?line=33'>34</a>\u001b[0m     \u001b[39m'\u001b[39;49m\u001b[39mRGB\u001b[39;49m\u001b[39m'\u001b[39;49m,\n\u001b[0;32m     <a href='vscode-notebook-cell:/d%3A/Documents/13_Projet/dlcv4ldb/03_Deveveloppement/test_grab_window.ipynb#W3sZmlsZQ%3D%3D?line=34'>35</a>\u001b[0m     (bmpinfo[\u001b[39m'\u001b[39;49m\u001b[39mbmWidth\u001b[39;49m\u001b[39m'\u001b[39;49m], bmpinfo[\u001b[39m'\u001b[39;49m\u001b[39mbmHeight\u001b[39;49m\u001b[39m'\u001b[39;49m]),\n\u001b[0;32m     <a href='vscode-notebook-cell:/d%3A/Documents/13_Projet/dlcv4ldb/03_Deveveloppement/test_grab_window.ipynb#W3sZmlsZQ%3D%3D?line=35'>36</a>\u001b[0m     bmpstr, \u001b[39m'\u001b[39;49m\u001b[39mraw\u001b[39;49m\u001b[39m'\u001b[39;49m, \u001b[39m'\u001b[39;49m\u001b[39mBGRX\u001b[39;49m\u001b[39m'\u001b[39;49m, \u001b[39m0\u001b[39;49m, \u001b[39m1\u001b[39;49m)\n\u001b[0;32m     <a href='vscode-notebook-cell:/d%3A/Documents/13_Projet/dlcv4ldb/03_Deveveloppement/test_grab_window.ipynb#W3sZmlsZQ%3D%3D?line=37'>38</a>\u001b[0m win32gui\u001b[39m.\u001b[39mDeleteObject(saveBitMap\u001b[39m.\u001b[39mGetHandle())\n\u001b[0;32m     <a href='vscode-notebook-cell:/d%3A/Documents/13_Projet/dlcv4ldb/03_Deveveloppement/test_grab_window.ipynb#W3sZmlsZQ%3D%3D?line=38'>39</a>\u001b[0m saveDC\u001b[39m.\u001b[39mDeleteDC()\n",
      "File \u001b[1;32md:\\Documents\\13_Projet\\dlcv4ldb\\03_Deveveloppement\\venv310\\lib\\site-packages\\PIL\\Image.py:3034\u001b[0m, in \u001b[0;36mfrombuffer\u001b[1;34m(mode, size, data, decoder_name, *args)\u001b[0m\n\u001b[0;32m   3031\u001b[0m         im\u001b[39m.\u001b[39mreadonly \u001b[39m=\u001b[39m \u001b[39m1\u001b[39m\n\u001b[0;32m   3032\u001b[0m         \u001b[39mreturn\u001b[39;00m im\n\u001b[1;32m-> 3034\u001b[0m \u001b[39mreturn\u001b[39;00m frombytes(mode, size, data, decoder_name, args)\n",
      "File \u001b[1;32md:\\Documents\\13_Projet\\dlcv4ldb\\03_Deveveloppement\\venv310\\lib\\site-packages\\PIL\\Image.py:2976\u001b[0m, in \u001b[0;36mfrombytes\u001b[1;34m(mode, size, data, decoder_name, *args)\u001b[0m\n\u001b[0;32m   2973\u001b[0m     args \u001b[39m=\u001b[39m mode\n\u001b[0;32m   2975\u001b[0m im \u001b[39m=\u001b[39m new(mode, size)\n\u001b[1;32m-> 2976\u001b[0m im\u001b[39m.\u001b[39;49mfrombytes(data, decoder_name, args)\n\u001b[0;32m   2977\u001b[0m \u001b[39mreturn\u001b[39;00m im\n",
      "File \u001b[1;32md:\\Documents\\13_Projet\\dlcv4ldb\\03_Deveveloppement\\venv310\\lib\\site-packages\\PIL\\Image.py:809\u001b[0m, in \u001b[0;36mImage.frombytes\u001b[1;34m(self, data, decoder_name, *args)\u001b[0m\n\u001b[0;32m    807\u001b[0m \u001b[39mif\u001b[39;00m s[\u001b[39m0\u001b[39m] \u001b[39m>\u001b[39m\u001b[39m=\u001b[39m \u001b[39m0\u001b[39m:\n\u001b[0;32m    808\u001b[0m     msg \u001b[39m=\u001b[39m \u001b[39m\"\u001b[39m\u001b[39mnot enough image data\u001b[39m\u001b[39m\"\u001b[39m\n\u001b[1;32m--> 809\u001b[0m     \u001b[39mraise\u001b[39;00m \u001b[39mValueError\u001b[39;00m(msg)\n\u001b[0;32m    810\u001b[0m \u001b[39mif\u001b[39;00m s[\u001b[39m1\u001b[39m] \u001b[39m!=\u001b[39m \u001b[39m0\u001b[39m:\n\u001b[0;32m    811\u001b[0m     msg \u001b[39m=\u001b[39m \u001b[39m\"\u001b[39m\u001b[39mcannot decode image data\u001b[39m\u001b[39m\"\u001b[39m\n",
      "\u001b[1;31mValueError\u001b[0m: not enough image data"
     ]
    }
   ],
   "source": [
    "import win32gui\n",
    "import win32ui\n",
    "from ctypes import windll\n",
    "from PIL import Image\n",
    "\n",
    "hwnd = win32gui.FindWindow(None, 'Deeplearner - Dofus 2.69.3.11')\n",
    "\n",
    "# Change the line below depending on whether you want the whole window\n",
    "# or just the client area. \n",
    "left, top, right, bot = win32gui.GetClientRect(hwnd)\n",
    "# left, top, right, bot = win32gui.GetWindowRect(hwnd)\n",
    "w = right - left\n",
    "h = bot - top\n",
    "\n",
    "hwndDC = win32gui.GetWindowDC(hwnd)\n",
    "mfcDC  = win32ui.CreateDCFromHandle(hwndDC)\n",
    "saveDC = mfcDC.CreateCompatibleDC()\n",
    "\n",
    "saveBitMap = win32ui.CreateBitmap()\n",
    "saveBitMap.CreateCompatibleBitmap(mfcDC, w, h)\n",
    "\n",
    "saveDC.SelectObject(saveBitMap)\n",
    "\n",
    "# Change the line below depending on whether you want the whole window\n",
    "# or just the client area. \n",
    "result = windll.user32.PrintWindow(hwnd, saveDC.GetSafeHdc(), 1)\n",
    "# result = windll.user32.PrintWindow(hwnd, saveDC.GetSafeHdc(), 0)\n",
    "print(result)\n",
    "\n",
    "bmpinfo = saveBitMap.GetInfo()\n",
    "bmpstr = saveBitMap.GetBitmapBits(True)\n",
    "\n",
    "im = Image.frombuffer(\n",
    "    'RGB',\n",
    "    (bmpinfo['bmWidth'], bmpinfo['bmHeight']),\n",
    "    bmpstr, 'raw', 'BGRX', 0, 1)\n",
    "\n",
    "win32gui.DeleteObject(saveBitMap.GetHandle())\n",
    "saveDC.DeleteDC()\n",
    "mfcDC.DeleteDC()\n",
    "win32gui.ReleaseDC(hwnd, hwndDC)\n",
    "\n",
    "if result == 1:\n",
    "    #PrintWindow Succeeded\n",
    "    im.save(\"test.png\")\n"
   ]
  },
  {
   "cell_type": "code",
   "execution_count": 2,
   "metadata": {},
   "outputs": [
    {
     "name": "stdout",
     "output_type": "stream",
     "text": [
      "<Win32Window left=\"-7\", top=\"-7\", width=\"1550\", height=\"838\", title=\"Dofus 2.69.3.11\">\n"
     ]
    },
    {
     "ename": "KeyboardInterrupt",
     "evalue": "",
     "output_type": "error",
     "traceback": [
      "\u001b[1;31m---------------------------------------------------------------------------\u001b[0m",
      "\u001b[1;31mKeyboardInterrupt\u001b[0m                         Traceback (most recent call last)",
      "\u001b[1;32md:\\Documents\\13_Projet\\dlcv4ldb\\03_Deveveloppement\\test_grab_window.ipynb Cellule 2\u001b[0m line \u001b[0;36m1\n\u001b[0;32m      <a href='vscode-notebook-cell:/d%3A/Documents/13_Projet/dlcv4ldb/03_Deveveloppement/test_grab_window.ipynb#W1sZmlsZQ%3D%3D?line=6'>7</a>\u001b[0m left, top, right, bottom \u001b[39m=\u001b[39m app_window\u001b[39m.\u001b[39mleft, app_window\u001b[39m.\u001b[39mtop, app_window\u001b[39m.\u001b[39mleft \u001b[39m+\u001b[39m app_window\u001b[39m.\u001b[39mwidth, app_window\u001b[39m.\u001b[39mtop \u001b[39m+\u001b[39m app_window\u001b[39m.\u001b[39mheight\n\u001b[0;32m      <a href='vscode-notebook-cell:/d%3A/Documents/13_Projet/dlcv4ldb/03_Deveveloppement/test_grab_window.ipynb#W1sZmlsZQ%3D%3D?line=8'>9</a>\u001b[0m \u001b[39m# Capturez la frame de l'application\u001b[39;00m\n\u001b[1;32m---> <a href='vscode-notebook-cell:/d%3A/Documents/13_Projet/dlcv4ldb/03_Deveveloppement/test_grab_window.ipynb#W1sZmlsZQ%3D%3D?line=9'>10</a>\u001b[0m screenshot \u001b[39m=\u001b[39m ImageGrab\u001b[39m.\u001b[39;49mgrab(bbox\u001b[39m=\u001b[39;49m(left, top, right, bottom))\n\u001b[0;32m     <a href='vscode-notebook-cell:/d%3A/Documents/13_Projet/dlcv4ldb/03_Deveveloppement/test_grab_window.ipynb#W1sZmlsZQ%3D%3D?line=10'>11</a>\u001b[0m screenshot\u001b[39m.\u001b[39msave(\u001b[39mf\u001b[39m\u001b[39m\"\u001b[39m\u001b[39mtest_grab/\u001b[39m\u001b[39m{\u001b[39;00mi\u001b[39m:\u001b[39;00m\u001b[39m03d\u001b[39m\u001b[39m}\u001b[39;00m\u001b[39m.png\u001b[39m\u001b[39m\"\u001b[39m)\n\u001b[0;32m     <a href='vscode-notebook-cell:/d%3A/Documents/13_Projet/dlcv4ldb/03_Deveveloppement/test_grab_window.ipynb#W1sZmlsZQ%3D%3D?line=11'>12</a>\u001b[0m \u001b[39m# frame = cv2.cvtColor(np.array(screenshot), cv2.COLOR_RGB2BGR)\u001b[39;00m\n",
      "File \u001b[1;32md:\\Documents\\13_Projet\\dlcv4ldb\\03_Deveveloppement\\venv310\\lib\\site-packages\\PIL\\ImageGrab.py:50\u001b[0m, in \u001b[0;36mgrab\u001b[1;34m(bbox, include_layered_windows, all_screens, xdisplay)\u001b[0m\n\u001b[0;32m     46\u001b[0m \u001b[39melif\u001b[39;00m sys\u001b[39m.\u001b[39mplatform \u001b[39m==\u001b[39m \u001b[39m\"\u001b[39m\u001b[39mwin32\u001b[39m\u001b[39m\"\u001b[39m:\n\u001b[0;32m     47\u001b[0m     offset, size, data \u001b[39m=\u001b[39m Image\u001b[39m.\u001b[39mcore\u001b[39m.\u001b[39mgrabscreen_win32(\n\u001b[0;32m     48\u001b[0m         include_layered_windows, all_screens\n\u001b[0;32m     49\u001b[0m     )\n\u001b[1;32m---> 50\u001b[0m     im \u001b[39m=\u001b[39m Image\u001b[39m.\u001b[39;49mfrombytes(\n\u001b[0;32m     51\u001b[0m         \u001b[39m\"\u001b[39;49m\u001b[39mRGB\u001b[39;49m\u001b[39m\"\u001b[39;49m,\n\u001b[0;32m     52\u001b[0m         size,\n\u001b[0;32m     53\u001b[0m         data,\n\u001b[0;32m     54\u001b[0m         \u001b[39m# RGB, 32-bit line padding, origin lower left corner\u001b[39;49;00m\n\u001b[0;32m     55\u001b[0m         \u001b[39m\"\u001b[39;49m\u001b[39mraw\u001b[39;49m\u001b[39m\"\u001b[39;49m,\n\u001b[0;32m     56\u001b[0m         \u001b[39m\"\u001b[39;49m\u001b[39mBGR\u001b[39;49m\u001b[39m\"\u001b[39;49m,\n\u001b[0;32m     57\u001b[0m         (size[\u001b[39m0\u001b[39;49m] \u001b[39m*\u001b[39;49m \u001b[39m3\u001b[39;49m \u001b[39m+\u001b[39;49m \u001b[39m3\u001b[39;49m) \u001b[39m&\u001b[39;49m \u001b[39m-\u001b[39;49m\u001b[39m4\u001b[39;49m,\n\u001b[0;32m     58\u001b[0m         \u001b[39m-\u001b[39;49m\u001b[39m1\u001b[39;49m,\n\u001b[0;32m     59\u001b[0m     )\n\u001b[0;32m     60\u001b[0m     \u001b[39mif\u001b[39;00m bbox:\n\u001b[0;32m     61\u001b[0m         x0, y0 \u001b[39m=\u001b[39m offset\n",
      "File \u001b[1;32md:\\Documents\\13_Projet\\dlcv4ldb\\03_Deveveloppement\\venv310\\lib\\site-packages\\PIL\\Image.py:2975\u001b[0m, in \u001b[0;36mfrombytes\u001b[1;34m(mode, size, data, decoder_name, *args)\u001b[0m\n\u001b[0;32m   2972\u001b[0m \u001b[39mif\u001b[39;00m decoder_name \u001b[39m==\u001b[39m \u001b[39m\"\u001b[39m\u001b[39mraw\u001b[39m\u001b[39m\"\u001b[39m \u001b[39mand\u001b[39;00m args \u001b[39m==\u001b[39m ():\n\u001b[0;32m   2973\u001b[0m     args \u001b[39m=\u001b[39m mode\n\u001b[1;32m-> 2975\u001b[0m im \u001b[39m=\u001b[39m new(mode, size)\n\u001b[0;32m   2976\u001b[0m im\u001b[39m.\u001b[39mfrombytes(data, decoder_name, args)\n\u001b[0;32m   2977\u001b[0m \u001b[39mreturn\u001b[39;00m im\n",
      "File \u001b[1;32md:\\Documents\\13_Projet\\dlcv4ldb\\03_Deveveloppement\\venv310\\lib\\site-packages\\PIL\\Image.py:2939\u001b[0m, in \u001b[0;36mnew\u001b[1;34m(mode, size, color)\u001b[0m\n\u001b[0;32m   2937\u001b[0m     im\u001b[39m.\u001b[39mpalette \u001b[39m=\u001b[39m ImagePalette\u001b[39m.\u001b[39mImagePalette()\n\u001b[0;32m   2938\u001b[0m     color \u001b[39m=\u001b[39m im\u001b[39m.\u001b[39mpalette\u001b[39m.\u001b[39mgetcolor(color)\n\u001b[1;32m-> 2939\u001b[0m \u001b[39mreturn\u001b[39;00m im\u001b[39m.\u001b[39m_new(core\u001b[39m.\u001b[39;49mfill(mode, size, color))\n",
      "\u001b[1;31mKeyboardInterrupt\u001b[0m: "
     ]
    }
   ],
   "source": [
    "# Obtenez la fenêtre de l'application spécifique (remplacez \"YourApp\" par le nom de votre application)\n",
    "app_window = gw.getWindowsWithTitle(\"Dofus\")[0]\n",
    "print(app_window)\n",
    "i = 0\n",
    "while True:\n",
    "    # Obtenez la position et la taille de la fenêtre de l'application\n",
    "    left, top, right, bottom = app_window.left, app_window.top, app_window.left + app_window.width, app_window.top + app_window.height\n",
    "\n",
    "    # Capturez la frame de l'application\n",
    "    screenshot = ImageGrab.grab(bbox=(left, top, right, bottom))\n",
    "    screenshot.save(f\"test_grab/{i:03d}.png\")\n",
    "    # frame = cv2.cvtColor(np.array(screenshot), cv2.COLOR_RGB2BGR)\n",
    "    i += 1\n",
    "    # Faites quelque chose avec la frame, par exemple, affichez-la avec OpenCV\n",
    "    # cv2.imshow(\"Application Frame\", frame)\n",
    "\n",
    "    # Arrêtez la boucle si la touche 'q' est pressée\n",
    "    if cv2.waitKey(1) & 0xFF == ord('q'):\n",
    "        break\n",
    "\n",
    "cv2.destroyAllWindows()\n"
   ]
  },
  {
   "cell_type": "code",
   "execution_count": null,
   "metadata": {},
   "outputs": [],
   "source": []
  }
 ],
 "metadata": {
  "kernelspec": {
   "display_name": "venv310",
   "language": "python",
   "name": "python3"
  },
  "language_info": {
   "codemirror_mode": {
    "name": "ipython",
    "version": 3
   },
   "file_extension": ".py",
   "mimetype": "text/x-python",
   "name": "python",
   "nbconvert_exporter": "python",
   "pygments_lexer": "ipython3",
   "version": "3.10.11"
  }
 },
 "nbformat": 4,
 "nbformat_minor": 2
}
